{
 "cells": [
  {
   "cell_type": "code",
   "execution_count": 1,
   "id": "5bd09998",
   "metadata": {},
   "outputs": [],
   "source": [
    "def add_two_numbers():\n",
    "    print(10+50)"
   ]
  },
  {
   "cell_type": "code",
   "execution_count": 2,
   "id": "f02dafeb",
   "metadata": {},
   "outputs": [
    {
     "name": "stdout",
     "output_type": "stream",
     "text": [
      "60\n"
     ]
    }
   ],
   "source": [
    "add_two_numbers()"
   ]
  },
  {
   "cell_type": "code",
   "execution_count": 3,
   "id": "b6c97845",
   "metadata": {},
   "outputs": [],
   "source": [
    "def get_number(number):\n",
    "    print(number)"
   ]
  },
  {
   "cell_type": "code",
   "execution_count": 4,
   "id": "53e2e099",
   "metadata": {},
   "outputs": [
    {
     "name": "stdout",
     "output_type": "stream",
     "text": [
      "50\n"
     ]
    }
   ],
   "source": [
    "get_number(50)"
   ]
  },
  {
   "cell_type": "code",
   "execution_count": 5,
   "id": "e9e3f3d7",
   "metadata": {},
   "outputs": [
    {
     "name": "stdout",
     "output_type": "stream",
     "text": [
      "100\n"
     ]
    }
   ],
   "source": [
    "get_number(100)"
   ]
  },
  {
   "cell_type": "code",
   "execution_count": 6,
   "id": "475a411c",
   "metadata": {},
   "outputs": [],
   "source": [
    "def add_two_numbers(num1, num2):\n",
    "    print(num1+num2)"
   ]
  },
  {
   "cell_type": "code",
   "execution_count": 7,
   "id": "367cc0dc",
   "metadata": {},
   "outputs": [
    {
     "name": "stdout",
     "output_type": "stream",
     "text": [
      "100\n"
     ]
    }
   ],
   "source": [
    "add_two_numbers(50, 50)"
   ]
  },
  {
   "cell_type": "code",
   "execution_count": 8,
   "id": "2f5893b0",
   "metadata": {},
   "outputs": [
    {
     "ename": "TypeError",
     "evalue": "add_two_numbers() missing 1 required positional argument: 'num2'",
     "output_type": "error",
     "traceback": [
      "\u001b[1;31m---------------------------------------------------------------------------\u001b[0m",
      "\u001b[1;31mTypeError\u001b[0m                                 Traceback (most recent call last)",
      "\u001b[1;32m<ipython-input-8-edb6481ae2d0>\u001b[0m in \u001b[0;36m<module>\u001b[1;34m\u001b[0m\n\u001b[1;32m----> 1\u001b[1;33m \u001b[0madd_two_numbers\u001b[0m\u001b[1;33m(\u001b[0m\u001b[1;36m50\u001b[0m\u001b[1;33m)\u001b[0m\u001b[1;33m\u001b[0m\u001b[1;33m\u001b[0m\u001b[0m\n\u001b[0m",
      "\u001b[1;31mTypeError\u001b[0m: add_two_numbers() missing 1 required positional argument: 'num2'"
     ]
    }
   ],
   "source": [
    "add_two_numbers(50)"
   ]
  },
  {
   "cell_type": "code",
   "execution_count": 11,
   "id": "35b955e6",
   "metadata": {},
   "outputs": [],
   "source": [
    "def add_two_numbers(num1, num2=10):\n",
    "    print(num1+num2)"
   ]
  },
  {
   "cell_type": "code",
   "execution_count": 12,
   "id": "482085bb",
   "metadata": {},
   "outputs": [
    {
     "name": "stdout",
     "output_type": "stream",
     "text": [
      "110\n"
     ]
    }
   ],
   "source": [
    "add_two_numbers(100)"
   ]
  },
  {
   "cell_type": "code",
   "execution_count": 13,
   "id": "f88d339a",
   "metadata": {},
   "outputs": [
    {
     "ename": "SyntaxError",
     "evalue": "non-default argument follows default argument (<ipython-input-13-cf60acc99a1d>, line 1)",
     "output_type": "error",
     "traceback": [
      "\u001b[1;36m  File \u001b[1;32m\"<ipython-input-13-cf60acc99a1d>\"\u001b[1;36m, line \u001b[1;32m1\u001b[0m\n\u001b[1;33m    def add_two_numbers(num1=10, num2):\u001b[0m\n\u001b[1;37m                        ^\u001b[0m\n\u001b[1;31mSyntaxError\u001b[0m\u001b[1;31m:\u001b[0m non-default argument follows default argument\n"
     ]
    }
   ],
   "source": [
    "def add_two_numbers(num1=10, num2):\n",
    "    print(num1+num2)"
   ]
  },
  {
   "cell_type": "code",
   "execution_count": 15,
   "id": "1a3c00a6",
   "metadata": {},
   "outputs": [],
   "source": [
    "def print_many_numbers(*nums):\n",
    "    print(nums)"
   ]
  },
  {
   "cell_type": "code",
   "execution_count": 16,
   "id": "7875fc15",
   "metadata": {},
   "outputs": [
    {
     "name": "stdout",
     "output_type": "stream",
     "text": [
      "(10, 20, 30, 40, 50)\n"
     ]
    }
   ],
   "source": [
    "print_many_numbers(10, 20, 30 , 40, 50)"
   ]
  },
  {
   "cell_type": "code",
   "execution_count": 17,
   "id": "33c17a7e",
   "metadata": {},
   "outputs": [],
   "source": [
    "def get_info(**infos):\n",
    "    print(infos)"
   ]
  },
  {
   "cell_type": "code",
   "execution_count": 19,
   "id": "7c067167",
   "metadata": {},
   "outputs": [
    {
     "name": "stdout",
     "output_type": "stream",
     "text": [
      "{'name': 'Tarek', 'dept': 'CSE', 'sem': '5th'}\n"
     ]
    }
   ],
   "source": [
    "get_info(name=\"Tarek\", dept=\"CSE\", sem=\"5th\")"
   ]
  },
  {
   "cell_type": "code",
   "execution_count": 24,
   "id": "316d92e8",
   "metadata": {},
   "outputs": [],
   "source": [
    "def get_many(*args, **kwargs):\n",
    "#     print(args, kwargs)\n",
    "    for i in args:\n",
    "        print(i)\n",
    "    for key, value in kwargs.items():\n",
    "        print(value)"
   ]
  },
  {
   "cell_type": "code",
   "execution_count": 25,
   "id": "6cac2244",
   "metadata": {},
   "outputs": [
    {
     "name": "stdout",
     "output_type": "stream",
     "text": [
      "10\n",
      "20\n",
      "30\n",
      "100\n",
      "200\n",
      "300\n"
     ]
    }
   ],
   "source": [
    "get_many(10, 20, 30, num1=100, num2=200, num3=300)"
   ]
  },
  {
   "cell_type": "code",
   "execution_count": 28,
   "id": "b0841e61",
   "metadata": {},
   "outputs": [],
   "source": [
    "def num1(num):\n",
    "    return num\n",
    "def num2(num):\n",
    "    print(num)"
   ]
  },
  {
   "cell_type": "code",
   "execution_count": 29,
   "id": "101bacca",
   "metadata": {},
   "outputs": [
    {
     "name": "stdout",
     "output_type": "stream",
     "text": [
      "20\n"
     ]
    },
    {
     "ename": "TypeError",
     "evalue": "unsupported operand type(s) for +: 'int' and 'NoneType'",
     "output_type": "error",
     "traceback": [
      "\u001b[1;31m---------------------------------------------------------------------------\u001b[0m",
      "\u001b[1;31mTypeError\u001b[0m                                 Traceback (most recent call last)",
      "\u001b[1;32m<ipython-input-29-150c7e936f92>\u001b[0m in \u001b[0;36m<module>\u001b[1;34m\u001b[0m\n\u001b[1;32m----> 1\u001b[1;33m \u001b[0mnum1\u001b[0m\u001b[1;33m(\u001b[0m\u001b[1;36m10\u001b[0m\u001b[1;33m)\u001b[0m\u001b[1;33m+\u001b[0m\u001b[0mnum2\u001b[0m\u001b[1;33m(\u001b[0m\u001b[1;36m20\u001b[0m\u001b[1;33m)\u001b[0m\u001b[1;33m\u001b[0m\u001b[1;33m\u001b[0m\u001b[0m\n\u001b[0m",
      "\u001b[1;31mTypeError\u001b[0m: unsupported operand type(s) for +: 'int' and 'NoneType'"
     ]
    }
   ],
   "source": [
    "num1(10)+num2(20)"
   ]
  },
  {
   "cell_type": "code",
   "execution_count": 33,
   "id": "a6b1fb62",
   "metadata": {},
   "outputs": [],
   "source": [
    "# nested function\n",
    "def function_1(num1, num2):\n",
    "    def function2(num1, num2):\n",
    "        return num1+num2\n",
    "    return function2(num1, num2)"
   ]
  },
  {
   "cell_type": "code",
   "execution_count": 34,
   "id": "7ac52d7f",
   "metadata": {},
   "outputs": [
    {
     "data": {
      "text/plain": [
       "30"
      ]
     },
     "execution_count": 34,
     "metadata": {},
     "output_type": "execute_result"
    }
   ],
   "source": [
    "function_1(10, 20)"
   ]
  },
  {
   "cell_type": "code",
   "execution_count": 35,
   "id": "2bb435ae",
   "metadata": {},
   "outputs": [],
   "source": [
    "def function_1(num1, num2):\n",
    "    sum1 = num1+num2\n",
    "    def function2(num3):\n",
    "        return num3+100\n",
    "    return function2(sum1)"
   ]
  },
  {
   "cell_type": "code",
   "execution_count": 36,
   "id": "0ca0186f",
   "metadata": {},
   "outputs": [
    {
     "data": {
      "text/plain": [
       "400"
      ]
     },
     "execution_count": 36,
     "metadata": {},
     "output_type": "execute_result"
    }
   ],
   "source": [
    "function_1(100, 200)"
   ]
  },
  {
   "cell_type": "code",
   "execution_count": 37,
   "id": "0b52c0e6",
   "metadata": {},
   "outputs": [
    {
     "ename": "NameError",
     "evalue": "name 'function2' is not defined",
     "output_type": "error",
     "traceback": [
      "\u001b[1;31m---------------------------------------------------------------------------\u001b[0m",
      "\u001b[1;31mNameError\u001b[0m                                 Traceback (most recent call last)",
      "\u001b[1;32m<ipython-input-37-29e3bd03968e>\u001b[0m in \u001b[0;36m<module>\u001b[1;34m\u001b[0m\n\u001b[1;32m----> 1\u001b[1;33m \u001b[0mfunction2\u001b[0m\u001b[1;33m(\u001b[0m\u001b[1;36m10\u001b[0m\u001b[1;33m)\u001b[0m\u001b[1;33m\u001b[0m\u001b[1;33m\u001b[0m\u001b[0m\n\u001b[0m",
      "\u001b[1;31mNameError\u001b[0m: name 'function2' is not defined"
     ]
    }
   ],
   "source": [
    "function2(10)"
   ]
  },
  {
   "cell_type": "code",
   "execution_count": 43,
   "id": "dc921537",
   "metadata": {},
   "outputs": [],
   "source": [
    "def get_help_number():\n",
    "    print(\"For Police press 1\")\n",
    "    print(\"For Fire press 2\")\n",
    "    print(\"For Food press 3\")\n",
    "    \n",
    "    choice = int(input(\"Enter the choice number\"))\n",
    "    \n",
    "    def call_police():\n",
    "        return \"Calling Police\"\n",
    "    def call_fire_service():\n",
    "        return \"Calling Fire Service\"\n",
    "    def call_food_service():\n",
    "        return \"Calling Food Service\"\n",
    "    \n",
    "    if choice == 1:\n",
    "        return call_police()\n",
    "    elif choice == 2:\n",
    "        return call_fire_service()\n",
    "    elif choice == 3:\n",
    "        return call_food_service()\n",
    "    else:\n",
    "        print(\"enter a valide choice: \")\n",
    "        # recursive functions\n",
    "        return get_help_number()\n",
    "        "
   ]
  },
  {
   "cell_type": "code",
   "execution_count": 44,
   "id": "a807655f",
   "metadata": {},
   "outputs": [
    {
     "name": "stdout",
     "output_type": "stream",
     "text": [
      "For Police press 1\n",
      "For Fire press 2\n",
      "For Food press 3\n",
      "Enter the choice number10\n",
      "enter a valide choice: \n",
      "For Police press 1\n",
      "For Fire press 2\n",
      "For Food press 3\n",
      "Enter the choice number5\n",
      "enter a valide choice: \n",
      "For Police press 1\n",
      "For Fire press 2\n",
      "For Food press 3\n",
      "Enter the choice number2\n"
     ]
    },
    {
     "data": {
      "text/plain": [
       "'Calling Fire Service'"
      ]
     },
     "execution_count": 44,
     "metadata": {},
     "output_type": "execute_result"
    }
   ],
   "source": [
    "get_help_number()"
   ]
  },
  {
   "cell_type": "code",
   "execution_count": 45,
   "id": "2c649998",
   "metadata": {},
   "outputs": [],
   "source": [
    "# lambda functions"
   ]
  },
  {
   "cell_type": "code",
   "execution_count": 46,
   "id": "06fe1176",
   "metadata": {},
   "outputs": [],
   "source": [
    "get_number = lambda x: x"
   ]
  },
  {
   "cell_type": "code",
   "execution_count": 47,
   "id": "57ee88bb",
   "metadata": {},
   "outputs": [
    {
     "data": {
      "text/plain": [
       "10"
      ]
     },
     "execution_count": 47,
     "metadata": {},
     "output_type": "execute_result"
    }
   ],
   "source": [
    "get_number(10)"
   ]
  },
  {
   "cell_type": "code",
   "execution_count": 50,
   "id": "14d0f4cc",
   "metadata": {},
   "outputs": [],
   "source": [
    "get_numbers = lambda x, y: x+y"
   ]
  },
  {
   "cell_type": "code",
   "execution_count": 51,
   "id": "9f8ce3e8",
   "metadata": {},
   "outputs": [
    {
     "data": {
      "text/plain": [
       "30"
      ]
     },
     "execution_count": 51,
     "metadata": {},
     "output_type": "execute_result"
    }
   ],
   "source": [
    "get_numbers(10, 20)"
   ]
  },
  {
   "cell_type": "code",
   "execution_count": 53,
   "id": "b345ba50",
   "metadata": {},
   "outputs": [],
   "source": [
    "get_numbers = lambda x, y: x+y if x < y else x / y"
   ]
  },
  {
   "cell_type": "code",
   "execution_count": 54,
   "id": "518fc04c",
   "metadata": {},
   "outputs": [
    {
     "data": {
      "text/plain": [
       "30"
      ]
     },
     "execution_count": 54,
     "metadata": {},
     "output_type": "execute_result"
    }
   ],
   "source": [
    "get_numbers(10, 20)"
   ]
  },
  {
   "cell_type": "code",
   "execution_count": 55,
   "id": "85482c71",
   "metadata": {},
   "outputs": [
    {
     "data": {
      "text/plain": [
       "5.0"
      ]
     },
     "execution_count": 55,
     "metadata": {},
     "output_type": "execute_result"
    }
   ],
   "source": [
    "get_numbers(100, 20)"
   ]
  },
  {
   "cell_type": "code",
   "execution_count": null,
   "id": "0bbe410a",
   "metadata": {},
   "outputs": [],
   "source": []
  }
 ],
 "metadata": {
  "kernelspec": {
   "display_name": "Python 3",
   "language": "python",
   "name": "python3"
  },
  "language_info": {
   "codemirror_mode": {
    "name": "ipython",
    "version": 3
   },
   "file_extension": ".py",
   "mimetype": "text/x-python",
   "name": "python",
   "nbconvert_exporter": "python",
   "pygments_lexer": "ipython3",
   "version": "3.8.8"
  }
 },
 "nbformat": 4,
 "nbformat_minor": 5
}
