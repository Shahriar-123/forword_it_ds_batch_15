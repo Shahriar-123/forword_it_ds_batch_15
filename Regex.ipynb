{
 "cells": [
  {
   "cell_type": "code",
   "execution_count": 1,
   "id": "f9f0a515",
   "metadata": {},
   "outputs": [],
   "source": [
    "import re"
   ]
  },
  {
   "cell_type": "code",
   "execution_count": 5,
   "id": "04d3987e",
   "metadata": {},
   "outputs": [
    {
     "data": {
      "text/plain": [
       "'123'"
      ]
     },
     "execution_count": 5,
     "metadata": {},
     "output_type": "execute_result"
    }
   ],
   "source": [
    "# matching\n",
    "pattern = r\"123\"\n",
    "string = \"123sldifh\"\n",
    "\n",
    "match = re.match(pattern, string)\n",
    "match.group()"
   ]
  },
  {
   "cell_type": "code",
   "execution_count": 6,
   "id": "0231a48f",
   "metadata": {},
   "outputs": [
    {
     "ename": "AttributeError",
     "evalue": "'NoneType' object has no attribute 'group'",
     "output_type": "error",
     "traceback": [
      "\u001b[1;31m---------------------------------------------------------------------------\u001b[0m",
      "\u001b[1;31mAttributeError\u001b[0m                            Traceback (most recent call last)",
      "\u001b[1;32m~\\AppData\\Local\\Temp/ipykernel_17720/2340713197.py\u001b[0m in \u001b[0;36m<module>\u001b[1;34m\u001b[0m\n\u001b[0;32m      1\u001b[0m \u001b[0mstring\u001b[0m \u001b[1;33m=\u001b[0m \u001b[1;34m\"\\\\t123zzb\"\u001b[0m\u001b[1;33m\u001b[0m\u001b[1;33m\u001b[0m\u001b[0m\n\u001b[0;32m      2\u001b[0m \u001b[0mpattern\u001b[0m \u001b[1;33m=\u001b[0m \u001b[1;34m\"\\\\t123\"\u001b[0m\u001b[1;33m\u001b[0m\u001b[1;33m\u001b[0m\u001b[0m\n\u001b[1;32m----> 3\u001b[1;33m \u001b[0mre\u001b[0m\u001b[1;33m.\u001b[0m\u001b[0mmatch\u001b[0m\u001b[1;33m(\u001b[0m\u001b[0mpattern\u001b[0m\u001b[1;33m,\u001b[0m \u001b[0mstring\u001b[0m\u001b[1;33m)\u001b[0m\u001b[1;33m.\u001b[0m\u001b[0mgroup\u001b[0m\u001b[1;33m(\u001b[0m\u001b[1;33m)\u001b[0m\u001b[1;33m\u001b[0m\u001b[1;33m\u001b[0m\u001b[0m\n\u001b[0m",
      "\u001b[1;31mAttributeError\u001b[0m: 'NoneType' object has no attribute 'group'"
     ]
    }
   ],
   "source": [
    "string = \"\\\\t123zzb\"\n",
    "pattern = \"\\\\t123\"\n",
    "re.match(pattern, string).group()"
   ]
  },
  {
   "cell_type": "code",
   "execution_count": 7,
   "id": "a4519987",
   "metadata": {},
   "outputs": [
    {
     "data": {
      "text/plain": [
       "'\\\\t123'"
      ]
     },
     "execution_count": 7,
     "metadata": {},
     "output_type": "execute_result"
    }
   ],
   "source": [
    "string = \"\\\\t123zzb\"\n",
    "pattern = r\"\\\\t123\"\n",
    "re.match(pattern, string).group()"
   ]
  },
  {
   "cell_type": "code",
   "execution_count": 9,
   "id": "9b2e7c5a",
   "metadata": {},
   "outputs": [
    {
     "data": {
      "text/plain": [
       "'\\\\t123'"
      ]
     },
     "execution_count": 9,
     "metadata": {},
     "output_type": "execute_result"
    }
   ],
   "source": [
    "re.match(pattern, \"\\\\t123zzb\").group()"
   ]
  },
  {
   "cell_type": "code",
   "execution_count": 23,
   "id": "ed6687f1",
   "metadata": {},
   "outputs": [
    {
     "name": "stdout",
     "output_type": "stream",
     "text": [
      "['34.4', '34', '24.7-47.9', '']\n"
     ]
    }
   ],
   "source": [
    "string = \"34.4$34[24.7-47.9]\"\n",
    "data = re.split(r'\\[|\\]|\\$', string)\n",
    "print(data)"
   ]
  },
  {
   "cell_type": "code",
   "execution_count": 19,
   "id": "7fa48c0f",
   "metadata": {},
   "outputs": [
    {
     "data": {
      "text/plain": [
       "'Your baby boy'"
      ]
     },
     "execution_count": 19,
     "metadata": {},
     "output_type": "execute_result"
    }
   ],
   "source": [
    "pattern = r\"(Your baby boy)\"\n",
    "sentence = \"Your baby boy are so cute\"\n",
    "\n",
    "match = re.search(pattern, sentence)\n",
    "match.group()"
   ]
  },
  {
   "cell_type": "code",
   "execution_count": 29,
   "id": "8797b6a6",
   "metadata": {},
   "outputs": [
    {
     "data": {
      "text/plain": [
       "'boy are so cute'"
      ]
     },
     "execution_count": 29,
     "metadata": {},
     "output_type": "execute_result"
    }
   ],
   "source": [
    "match = re.search(r\"(boy.*)\", sentence)\n",
    "match.group()"
   ]
  },
  {
   "cell_type": "code",
   "execution_count": 35,
   "id": "7a7020be",
   "metadata": {},
   "outputs": [
    {
     "data": {
      "text/plain": [
       "False"
      ]
     },
     "execution_count": 35,
     "metadata": {},
     "output_type": "execute_result"
    }
   ],
   "source": [
    "match = re.search(r\"123$\", \"asldh123\")\n",
    "match is None"
   ]
  },
  {
   "cell_type": "code",
   "execution_count": 39,
   "id": "00b878b0",
   "metadata": {},
   "outputs": [
    {
     "data": {
      "text/plain": [
       "False"
      ]
     },
     "execution_count": 39,
     "metadata": {},
     "output_type": "execute_result"
    }
   ],
   "source": [
    "match = re.search(r\"^123\", \"123asdfsa\")\n",
    "match is None"
   ]
  },
  {
   "cell_type": "code",
   "execution_count": 43,
   "id": "c5397266",
   "metadata": {},
   "outputs": [
    {
     "data": {
      "text/plain": [
       "'my name test is test what is test'"
      ]
     },
     "execution_count": 43,
     "metadata": {},
     "output_type": "execute_result"
    }
   ],
   "source": [
    "re.sub(r\"t[0-9][0-9]\", \"test\", \"my name t34 is t54 what is t23\")"
   ]
  },
  {
   "cell_type": "code",
   "execution_count": 68,
   "id": "87dc9a14",
   "metadata": {},
   "outputs": [
    {
     "data": {
      "text/plain": [
       "['admin123@forwordit.digital']"
      ]
     },
     "execution_count": 68,
     "metadata": {},
     "output_type": "execute_result"
    }
   ],
   "source": [
    "s = \"Your email address is admin123@forwordit.digital\"\n",
    "pattern = r\"[\\w.+-]+@[\\w-]+\\.[\\w.-]+\"\n",
    "\n",
    "match = re.findall(pattern, s)\n",
    "match"
   ]
  },
  {
   "cell_type": "code",
   "execution_count": 74,
   "id": "2ec4f612",
   "metadata": {},
   "outputs": [
    {
     "data": {
      "text/plain": [
       "['017190078780']"
      ]
     },
     "execution_count": 74,
     "metadata": {},
     "output_type": "execute_result"
    }
   ],
   "source": [
    "sentence = \"This is my number +017190078780\"\n",
    "pattern = r\"[\\w.-]+0[\\w-]+\"\n",
    "match = re.findall(pattern, sentence)\n",
    "match"
   ]
  },
  {
   "cell_type": "code",
   "execution_count": null,
   "id": "9781d36a",
   "metadata": {},
   "outputs": [],
   "source": []
  }
 ],
 "metadata": {
  "kernelspec": {
   "display_name": "Python 3 (ipykernel)",
   "language": "python",
   "name": "python3"
  },
  "language_info": {
   "codemirror_mode": {
    "name": "ipython",
    "version": 3
   },
   "file_extension": ".py",
   "mimetype": "text/x-python",
   "name": "python",
   "nbconvert_exporter": "python",
   "pygments_lexer": "ipython3",
   "version": "3.9.7"
  }
 },
 "nbformat": 4,
 "nbformat_minor": 5
}
