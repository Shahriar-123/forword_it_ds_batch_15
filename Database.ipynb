{
 "cells": [
  {
   "cell_type": "code",
   "execution_count": null,
   "id": "be7f9c31",
   "metadata": {},
   "outputs": [],
   "source": [
    "!pip install mysqlclient"
   ]
  },
  {
   "cell_type": "code",
   "execution_count": 1,
   "id": "703e46e1",
   "metadata": {},
   "outputs": [
    {
     "name": "stdout",
     "output_type": "stream",
     "text": [
      "<mysql.connector.connection.MySQLConnection object at 0x000001A4C396BA30>\n"
     ]
    }
   ],
   "source": [
    "import mysql.connector as conn\n",
    "\n",
    "db = conn.connect(\n",
    "    host=\"localhost\", user=\"root\", password=\"\",\n",
    ")\n",
    "print(db)"
   ]
  },
  {
   "cell_type": "code",
   "execution_count": 2,
   "id": "b9fa898c",
   "metadata": {},
   "outputs": [],
   "source": [
    "db.close()"
   ]
  },
  {
   "cell_type": "code",
   "execution_count": 7,
   "id": "ac2bff58",
   "metadata": {},
   "outputs": [],
   "source": [
    "def connect(host=\"localhost\", user=\"root\", password=\"\", db_name=\"\"):\n",
    "    if db_name != \"\":\n",
    "        db = conn.connect(\n",
    "            host=host, user=user, password=password, database=db_name\n",
    "        )\n",
    "        return db\n",
    "    else:\n",
    "        db = conn.connect(\n",
    "            host=host, user=user, password=password\n",
    "        )\n",
    "        return db"
   ]
  },
  {
   "cell_type": "code",
   "execution_count": 9,
   "id": "6d4cd6c9",
   "metadata": {},
   "outputs": [
    {
     "data": {
      "text/plain": [
       "<mysql.connector.connection.MySQLConnection at 0x2000d9d7790>"
      ]
     },
     "execution_count": 9,
     "metadata": {},
     "output_type": "execute_result"
    }
   ],
   "source": [
    "connect()"
   ]
  },
  {
   "cell_type": "code",
   "execution_count": 4,
   "id": "6886d5d1",
   "metadata": {},
   "outputs": [],
   "source": [
    "def create_database(db_name):\n",
    "    try:\n",
    "        db = connect()\n",
    "        cursor = db.cursor()\n",
    "        query = \"CREATE DATABASE \"+ db_name\n",
    "        cursor.execute(query)\n",
    "        cursor.close()\n",
    "        db.close()\n",
    "    except Exception as e:\n",
    "        print(e)"
   ]
  },
  {
   "cell_type": "code",
   "execution_count": 5,
   "id": "69dd7639",
   "metadata": {},
   "outputs": [],
   "source": [
    "create_database('employee')"
   ]
  },
  {
   "cell_type": "code",
   "execution_count": 8,
   "id": "79a1828a",
   "metadata": {},
   "outputs": [],
   "source": [
    "def create_table(db_name, table_name):\n",
    "    try:\n",
    "        db = connect(db_name=db_name)\n",
    "        cursor = db.cursor()\n",
    "        query = \"CREATE TABLE \"+ table_name +\"(id integer primary key auto_increment, name varchar(255), dept varchar(255))\"\n",
    "        cursor.execute(query)\n",
    "        cursor.close()\n",
    "        db.close()\n",
    "    except Exception as e:\n",
    "        print(e)"
   ]
  },
  {
   "cell_type": "code",
   "execution_count": 9,
   "id": "be6489bf",
   "metadata": {},
   "outputs": [],
   "source": [
    "create_table('employee', 'emp_info')"
   ]
  },
  {
   "cell_type": "code",
   "execution_count": 10,
   "id": "c76cb476",
   "metadata": {},
   "outputs": [],
   "source": [
    "def insert_data(db_name, table_name, name, dept):\n",
    "    try:\n",
    "        db = connect(db_name=db_name)\n",
    "        cursor = db.cursor()\n",
    "        query = \"INSERT INTO \"+ table_name +\"(id , name, dept) VALUES(0, %s, %s)\"\n",
    "        values = (name, dept)\n",
    "        cursor.execute(query, values)\n",
    "        db.commit()\n",
    "        cursor.close()\n",
    "        db.close()\n",
    "    except Exception as e:\n",
    "        print(e)"
   ]
  },
  {
   "cell_type": "code",
   "execution_count": 13,
   "id": "adc4613d",
   "metadata": {},
   "outputs": [],
   "source": [
    "def fetch_data(db_name, table_name):\n",
    "    try:\n",
    "        db = connect(db_name=db_name)\n",
    "        cursor = db.cursor()\n",
    "        query = \"SELECT * FROM \"+ table_name\n",
    "        cursor.execute(query)\n",
    "        res = cursor.fetchall()\n",
    "        for i in res:\n",
    "            print(i)\n",
    "        cursor.close()\n",
    "        db.close()\n",
    "    except Exception as e:\n",
    "        print(e)"
   ]
  },
  {
   "cell_type": "code",
   "execution_count": 14,
   "id": "ea421c5f",
   "metadata": {},
   "outputs": [
    {
     "name": "stdout",
     "output_type": "stream",
     "text": [
      "(1, 'Shamim', 'CSE')\n",
      "(2, 'Shamim', 'CSE')\n"
     ]
    }
   ],
   "source": [
    "insert_data('employee', 'emp_info', \"Shamim\", \"CSE\")\n",
    "fetch_data('employee', 'emp_info')"
   ]
  },
  {
   "cell_type": "code",
   "execution_count": null,
   "id": "c4724e76",
   "metadata": {},
   "outputs": [],
   "source": []
  }
 ],
 "metadata": {
  "kernelspec": {
   "display_name": "Python 3",
   "language": "python",
   "name": "python3"
  },
  "language_info": {
   "codemirror_mode": {
    "name": "ipython",
    "version": 3
   },
   "file_extension": ".py",
   "mimetype": "text/x-python",
   "name": "python",
   "nbconvert_exporter": "python",
   "pygments_lexer": "ipython3",
   "version": "3.8.8"
  }
 },
 "nbformat": 4,
 "nbformat_minor": 5
}
